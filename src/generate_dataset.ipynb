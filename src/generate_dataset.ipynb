{
 "cells": [
  {
   "cell_type": "code",
   "execution_count": 1,
   "metadata": {},
   "outputs": [],
   "source": [
    "import photo_preparation_functions as ppf\n",
    "import dataset_generation_functions as dgf\n",
    "import os"
   ]
  },
  {
   "cell_type": "code",
   "execution_count": 2,
   "metadata": {},
   "outputs": [],
   "source": [
    "PROJECT_DIR = '/home/moiki/Documents/Files/studies/4_Semester/ADL/ADL_W23'\n",
    "relative_location_videos = '/data/sg_cards'\n",
    "relative_path_backgrounds = '/data/dtd'\n",
    "relative_path_dataset = '/data/sg_cards_dataset_1'\n",
    "\n",
    "n_frames = 10\n",
    "sensitivity = 8\n",
    "testing = False\n",
    "\n",
    "seed = 1\n",
    "number_of_images = 2\n",
    "max_number_of_cards = 3\n",
    "overlapping = False\n",
    "max_size = 0.4\n",
    "min_size = 0.1\n",
    "max_rotation = 90\n",
    "max_angle = 45\n",
    "#color transformations,...?"
   ]
  },
  {
   "cell_type": "code",
   "execution_count": 3,
   "metadata": {},
   "outputs": [
    {
     "name": "stdout",
     "output_type": "stream",
     "text": [
      "Processed playing cards saved at /home/moiki/Documents/Files/studies/4_Semester/ADL/ADL_W23/data/sg_cards_frames_processed!\n",
      "Generated Dataset saved at /home/moiki/Documents/Files/studies/4_Semester/ADL/ADL_W23/data/sg_cards_dataset_1!\n"
     ]
    }
   ],
   "source": [
    "PLAYING_CARDS_DIR = str(PROJECT_DIR) + relative_location_videos\n",
    "BACKGROUNDS_DIR = str(PROJECT_DIR) + relative_path_backgrounds\n",
    "GENERATED_DATASET_DIR = str(PROJECT_DIR) + relative_path_dataset\n",
    "\n",
    "\n",
    "PLAYING_CARDS_FRAMES_DIR = ppf.process_videos(PLAYING_CARDS_DIR, n_frames, sensitivity, testing)\n",
    "PROCESSED_PLAYING_CARDS_DIR = ppf.process_photos(PLAYING_CARDS_FRAMES_DIR)\n",
    "print(f'Processed playing cards saved at {PROCESSED_PLAYING_CARDS_DIR}!')\n",
    "\n",
    "dgf.generate_dataset(BACKGROUNDS_DIR, PLAYING_CARDS_DIR, PROCESSED_PLAYING_CARDS_DIR, GENERATED_DATASET_DIR, number_of_images, max_number_of_cards, \n",
    "                                             min_size, max_size, max_rotation, max_angle, overlapping, seed)\n",
    "print(f'Generated Dataset saved at {GENERATED_DATASET_DIR}!')"
   ]
  }
 ],
 "metadata": {
  "kernelspec": {
   "display_name": ".venv",
   "language": "python",
   "name": "python3"
  },
  "language_info": {
   "codemirror_mode": {
    "name": "ipython",
    "version": 3
   },
   "file_extension": ".py",
   "mimetype": "text/x-python",
   "name": "python",
   "nbconvert_exporter": "python",
   "pygments_lexer": "ipython3",
   "version": "3.10.12"
  }
 },
 "nbformat": 4,
 "nbformat_minor": 2
}
