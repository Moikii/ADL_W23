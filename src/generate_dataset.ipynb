{
 "cells": [
  {
   "cell_type": "code",
   "execution_count": 1,
   "metadata": {},
   "outputs": [],
   "source": [
    "import photo_preparation_functions as ppf\n",
    "import dataset_generation_functions as dgf\n",
    "import os"
   ]
  },
  {
   "cell_type": "code",
   "execution_count": 2,
   "metadata": {},
   "outputs": [],
   "source": [
    "PROJECT_DIR = '/home/moiki/Documents/Files/studies/4_Semester/ADL/ADL_W23'\n",
    "relative_location_videos = '/data/sg_cards'\n",
    "relative_path_backgrounds = '/data/dtd'\n",
    "relative_path_dataset = '/data/sg_cards_dataset_1'\n",
    "\n",
    "#todo bessere loesung finden\n",
    "n_frames = 10\n",
    "sensitivity = 8\n",
    "testing = False\n",
    "\n",
    "seed = 1\n",
    "number_of_images = 2\n",
    "max_number_of_cards = 3\n",
    "overlapping = False\n",
    "max_size = 0.4\n",
    "min_size = 0.1\n",
    "max_rotation = 90\n",
    "max_angle = 45\n",
    "#color transformations,...?"
   ]
  },
  {
   "cell_type": "code",
   "execution_count": 3,
   "metadata": {},
   "outputs": [
    {
     "name": "stdout",
     "output_type": "stream",
     "text": [
      "Processed playing cards saved at /home/moiki/Documents/Files/studies/4_Semester/ADL/ADL_W23/data/sg_cards_frames_processed!\n"
     ]
    },
    {
     "ename": "TypeError",
     "evalue": "'NoneType' object is not iterable",
     "output_type": "error",
     "traceback": [
      "\u001b[0;31m---------------------------------------------------------------------------\u001b[0m",
      "\u001b[0;31mTypeError\u001b[0m                                 Traceback (most recent call last)",
      "\u001b[1;32m/home/moiki/Documents/Files/studies/4_Semester/ADL/ADL_W23/src/generate_dataset.ipynb Cell 3\u001b[0m line \u001b[0;36m1\n\u001b[1;32m      <a href='vscode-notebook-cell:/home/moiki/Documents/Files/studies/4_Semester/ADL/ADL_W23/src/generate_dataset.ipynb#W2sZmlsZQ%3D%3D?line=6'>7</a>\u001b[0m PROCESSED_PLAYING_CARDS_DIR \u001b[39m=\u001b[39m ppf\u001b[39m.\u001b[39mprocess_photos(PLAYING_CARDS_FRAMES_DIR)\n\u001b[1;32m      <a href='vscode-notebook-cell:/home/moiki/Documents/Files/studies/4_Semester/ADL/ADL_W23/src/generate_dataset.ipynb#W2sZmlsZQ%3D%3D?line=7'>8</a>\u001b[0m \u001b[39mprint\u001b[39m(\u001b[39mf\u001b[39m\u001b[39m'\u001b[39m\u001b[39mProcessed playing cards saved at \u001b[39m\u001b[39m{\u001b[39;00mPROCESSED_PLAYING_CARDS_DIR\u001b[39m}\u001b[39;00m\u001b[39m!\u001b[39m\u001b[39m'\u001b[39m)\n\u001b[0;32m---> <a href='vscode-notebook-cell:/home/moiki/Documents/Files/studies/4_Semester/ADL/ADL_W23/src/generate_dataset.ipynb#W2sZmlsZQ%3D%3D?line=9'>10</a>\u001b[0m dgf\u001b[39m.\u001b[39;49mgenerate_dataset(BACKGROUNDS_DIR, PLAYING_CARDS_DIR, PROCESSED_PLAYING_CARDS_DIR, GENERATED_DATASET_DIR, number_of_images, max_number_of_cards, \n\u001b[1;32m     <a href='vscode-notebook-cell:/home/moiki/Documents/Files/studies/4_Semester/ADL/ADL_W23/src/generate_dataset.ipynb#W2sZmlsZQ%3D%3D?line=10'>11</a>\u001b[0m                                              min_size, max_size, max_rotation, max_angle, overlapping, seed)\n\u001b[1;32m     <a href='vscode-notebook-cell:/home/moiki/Documents/Files/studies/4_Semester/ADL/ADL_W23/src/generate_dataset.ipynb#W2sZmlsZQ%3D%3D?line=11'>12</a>\u001b[0m \u001b[39mprint\u001b[39m(\u001b[39mf\u001b[39m\u001b[39m'\u001b[39m\u001b[39mGenerated Dataset saved at \u001b[39m\u001b[39m{\u001b[39;00mGENERATED_DATASET_DIR\u001b[39m}\u001b[39;00m\u001b[39m!\u001b[39m\u001b[39m'\u001b[39m)\n",
      "File \u001b[0;32m~/Documents/Files/studies/4_Semester/ADL/ADL_W23/src/dataset_generation_functions.py:132\u001b[0m, in \u001b[0;36mgenerate_dataset\u001b[0;34m(BACKGROUNDS_DIR, PLAYING_CARDS_DIR, PROCESSED_PLAYING_CARDS_DIR, GENERATED_DATASET_DIR, number_of_images, max_number_of_cards, min_size, max_size, max_rotation, max_angle, overlapping, seed)\u001b[0m\n\u001b[1;32m    130\u001b[0m cards, names \u001b[39m=\u001b[39m select_cards(PROCESSED_PLAYING_CARDS_DIR, number_of_cards)\n\u001b[1;32m    131\u001b[0m classes \u001b[39m=\u001b[39m [classes_dict[name] \u001b[39mfor\u001b[39;00m name \u001b[39min\u001b[39;00m names]\n\u001b[0;32m--> 132\u001b[0m image, labels \u001b[39m=\u001b[39m place_cards(background, cards, classes, max_size, min_size, max_rotation, max_angle, overlapping)\n\u001b[1;32m    134\u001b[0m cv\u001b[39m.\u001b[39mimwrite(GENERATED_DATASET_DIR \u001b[39m+\u001b[39m \u001b[39m'\u001b[39m\u001b[39m/images/\u001b[39m\u001b[39m'\u001b[39m \u001b[39m+\u001b[39m i \u001b[39m+\u001b[39m \u001b[39m'\u001b[39m\u001b[39m.jpeg\u001b[39m\u001b[39m'\u001b[39m, image)\n\u001b[1;32m    135\u001b[0m \u001b[39mwith\u001b[39;00m \u001b[39mopen\u001b[39m(GENERATED_DATASET_DIR \u001b[39m+\u001b[39m \u001b[39m'\u001b[39m\u001b[39m/labels/\u001b[39m\u001b[39m'\u001b[39m \u001b[39m+\u001b[39m i \u001b[39m+\u001b[39m \u001b[39m'\u001b[39m\u001b[39m.txt\u001b[39m\u001b[39m'\u001b[39m, \u001b[39m'\u001b[39m\u001b[39mw\u001b[39m\u001b[39m'\u001b[39m) \u001b[39mas\u001b[39;00m file:\n",
      "File \u001b[0;32m~/Documents/Files/studies/4_Semester/ADL/ADL_W23/src/dataset_generation_functions.py:105\u001b[0m, in \u001b[0;36mplace_cards\u001b[0;34m(background, cards, classes, max_size, min_size, max_rotation, max_angle, overlapping)\u001b[0m\n\u001b[1;32m    102\u001b[0m         bounding_boxes \u001b[39m=\u001b[39m add_new_bb(bounding_boxes, bounding_box_proposal)\n\u001b[1;32m    104\u001b[0m labels \u001b[39m=\u001b[39m \u001b[39m'\u001b[39m\u001b[39m'\u001b[39m\n\u001b[0;32m--> 105\u001b[0m \u001b[39mfor\u001b[39;00m i, bounding_box \u001b[39min\u001b[39;00m \u001b[39menumerate\u001b[39;49m(bounding_boxes):\n\u001b[1;32m    106\u001b[0m     labels \u001b[39m+\u001b[39m\u001b[39m=\u001b[39m classes[i] \u001b[39m+\u001b[39m \u001b[39m'\u001b[39m\u001b[39m \u001b[39m\u001b[39m'\u001b[39m \u001b[39m+\u001b[39m \u001b[39m'\u001b[39m\u001b[39m \u001b[39m\u001b[39m'\u001b[39m\u001b[39m.\u001b[39mjoin(bounding_box) \u001b[39m+\u001b[39m \u001b[39m'\u001b[39m\u001b[39m\\n\u001b[39;00m\u001b[39m'\u001b[39m\n\u001b[1;32m    107\u001b[0m \u001b[39mreturn\u001b[39;00m image, labels\n",
      "\u001b[0;31mTypeError\u001b[0m: 'NoneType' object is not iterable"
     ]
    }
   ],
   "source": [
    "PLAYING_CARDS_DIR = str(PROJECT_DIR) + relative_location_videos\n",
    "BACKGROUNDS_DIR = str(PROJECT_DIR) + relative_path_backgrounds\n",
    "GENERATED_DATASET_DIR = str(PROJECT_DIR) + relative_path_dataset\n",
    "\n",
    "\n",
    "PLAYING_CARDS_FRAMES_DIR = ppf.process_videos(PLAYING_CARDS_DIR, n_frames, sensitivity, testing)\n",
    "PROCESSED_PLAYING_CARDS_DIR = ppf.process_photos(PLAYING_CARDS_FRAMES_DIR)\n",
    "print(f'Processed playing cards saved at {PROCESSED_PLAYING_CARDS_DIR}!')\n",
    "\n",
    "dgf.generate_dataset(BACKGROUNDS_DIR, PLAYING_CARDS_DIR, PROCESSED_PLAYING_CARDS_DIR, GENERATED_DATASET_DIR, number_of_images, max_number_of_cards, \n",
    "                                             min_size, max_size, max_rotation, max_angle, overlapping, seed)\n",
    "print(f'Generated Dataset saved at {GENERATED_DATASET_DIR}!')"
   ]
  }
 ],
 "metadata": {
  "kernelspec": {
   "display_name": ".venv",
   "language": "python",
   "name": "python3"
  },
  "language_info": {
   "codemirror_mode": {
    "name": "ipython",
    "version": 3
   },
   "file_extension": ".py",
   "mimetype": "text/x-python",
   "name": "python",
   "nbconvert_exporter": "python",
   "pygments_lexer": "ipython3",
   "version": "3.10.12"
  }
 },
 "nbformat": 4,
 "nbformat_minor": 2
}
